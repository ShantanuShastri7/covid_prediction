{
 "cells": [
  {
   "cell_type": "markdown",
   "metadata": {},
   "source": [
    "# Predicting Covid 19 using chest X-rays"
   ]
  },
  {
   "cell_type": "markdown",
   "metadata": {},
   "source": [
    "### Context\n",
    "Covid 19 has been cause of most deaths around the globe since the last one and a half years. COVID-19 is a disease caused by a new strain of coronavirus. 'CO' stands for corona, 'VI' for virus, and 'D' for disease. Formerly, this disease was referred to as '2019 novel coronavirus' or '2019-nCoV.'  \n",
    "\n",
    "Current evidence suggests that the virus spreads mainly between people who are in close contact with each other, typically within 1 metre (short-range). A person can be infected when aerosols or droplets containing the virus are inhaled or come directly into contact with the eyes, nose, or mouth.\n",
    "\n",
    "Detection of Covid-19 is done using RT-PCR tests, the major downside of this test is that it takes a long amount of time to get processed which thereby increases the chances of patient's degradation in health.\n",
    "There is another process by which doctors are able to detect the presence of Corona virus, it is done using X-Rays. But during these times the availability of a doctor is also difficult to each and every person. So using DNN to train and predict Covid-19 will be of a great use.\n",
    "\n",
    "### Data Set\n",
    "The data set was taken from kaggle, the link to which is \n",
    "[COVIDx CXR-2 Dataset](https://www.kaggle.com/andyczhao/covidx-cxr2)  \n",
    "The data set had 2 folders \n",
    "1. Train \n",
    "2. Test \n",
    "\n",
    "Train folder had 15971 X-ray images belonging to both the positive and negative classes, out of which 2158 were Covid-19 positive and 13792 were Covid-19 negative  \n",
    "Test folder has 400 X-ray images, out of which 200 were Covid-19 positive and the other 200 were Covid-19 negative \n",
    "\n",
    "### Methodology\n",
    "The data set is imbalanced, i.e. it has 2158 positive examples and 13792 negative examples.  In such a case we have two solutions, either \n",
    "1. Under sampling the data (taking same number of positive and negative samples, i.e. 2158 positive and 2158 negative)  \n",
    "2. Over sampling the data (generating new positive samples in order to match the amount of negative samples)\n",
    "\n",
    "When it comes to CNNs we have two options\n",
    "1. Train our own model from scratch\n",
    "2. Apply Transfer Learning on a pre trained model. \n",
    "\n",
    "First we'll take VGG-16 which is pre trained model that won the ImageNet challenge, the architecture is given below\n",
    "\n",
    "![VGG16](https://neurohive.io/wp-content/uploads/2018/11/vgg16-1-e1542731207177.png) \n",
    "\n",
    "Next we'll make a CNN of our own and train it from scratch on our data set, I'll be sharing the architecture in the code \n",
    "\n",
    "So to check for accuracies in different model and pre processing, we will be training 3 models in total \n",
    "\n",
    "1. Transfer Learning on VGG-16 without Data Augmentation\n",
    "2. Transfer Learning on VGG-16 with Data Augmentation\n",
    "3. Training a CNN from scratch without Data Augmentation\n",
    "\n",
    "#### For the accuracy of the test set, I'll be using my test images on the validation parameter instead of dividing my training data into two parts."
   ]
  },
  {
   "cell_type": "markdown",
   "metadata": {},
   "source": [
    "### Importing required libraries"
   ]
  },
  {
   "cell_type": "code",
   "execution_count": 58,
   "metadata": {},
   "outputs": [],
   "source": [
    "import numpy as np\n",
    "import pandas as pd\n",
    "import warnings \n",
    "from sklearn.model_selection import train_test_split\n",
    "import os \n",
    "import zipfile \n",
    "import tensorflow as tf \n",
    "from tensorflow.keras.preprocessing.image import ImageDataGenerator \n",
    "from tensorflow.keras import layers \n",
    "from tensorflow.keras import Model \n",
    "import matplotlib.pyplot as plt\n",
    "from sklearn.metrics import classification_report,confusion_matrix\n",
    "from tensorflow.keras.preprocessing import image\n",
    "from tensorflow.keras.applications.vgg16 import preprocess_input,decode_predictions \n",
    "import itertools \n",
    "from keras.preprocessing.image import array_to_img, img_to_array, load_img\n",
    "import keras\n",
    "from keras.models import Sequential\n",
    "from keras.utils import to_categorical\n",
    "from keras.layers import Dense, Conv2D, MaxPooling2D, Dropout, Flatten"
   ]
  },
  {
   "cell_type": "markdown",
   "metadata": {},
   "source": [
    "### Loading the dataset's name and results text file "
   ]
  },
  {
   "cell_type": "code",
   "execution_count": 121,
   "metadata": {},
   "outputs": [],
   "source": [
    "df_test=pd.read_csv(r'C:\\Users\\User1\\OneDrive\\Desktop\\CovidProject\\test.txt',sep=\" \")"
   ]
  },
  {
   "cell_type": "code",
   "execution_count": 122,
   "metadata": {
    "scrolled": true
   },
   "outputs": [
    {
     "data": {
      "text/html": [
       "<div>\n",
       "<style scoped>\n",
       "    .dataframe tbody tr th:only-of-type {\n",
       "        vertical-align: middle;\n",
       "    }\n",
       "\n",
       "    .dataframe tbody tr th {\n",
       "        vertical-align: top;\n",
       "    }\n",
       "\n",
       "    .dataframe thead th {\n",
       "        text-align: right;\n",
       "    }\n",
       "</style>\n",
       "<table border=\"1\" class=\"dataframe\">\n",
       "  <thead>\n",
       "    <tr style=\"text-align: right;\">\n",
       "      <th></th>\n",
       "      <th>419639-003251</th>\n",
       "      <th>MIDRC-RICORD-1C-419639-003251-46647-0.png</th>\n",
       "      <th>positive</th>\n",
       "      <th>ricord</th>\n",
       "    </tr>\n",
       "  </thead>\n",
       "  <tbody>\n",
       "    <tr>\n",
       "      <th>0</th>\n",
       "      <td>419639-001464</td>\n",
       "      <td>MIDRC-RICORD-1C-419639-001464-39871-0.png</td>\n",
       "      <td>positive</td>\n",
       "      <td>ricord</td>\n",
       "    </tr>\n",
       "    <tr>\n",
       "      <th>1</th>\n",
       "      <td>419639-000918</td>\n",
       "      <td>MIDRC-RICORD-1C-419639-000918-78965-0.png</td>\n",
       "      <td>positive</td>\n",
       "      <td>ricord</td>\n",
       "    </tr>\n",
       "    <tr>\n",
       "      <th>2</th>\n",
       "      <td>419639-003318</td>\n",
       "      <td>MIDRC-RICORD-1C-419639-003318-64285-0.png</td>\n",
       "      <td>positive</td>\n",
       "      <td>ricord</td>\n",
       "    </tr>\n",
       "    <tr>\n",
       "      <th>3</th>\n",
       "      <td>419639-001015</td>\n",
       "      <td>MIDRC-RICORD-1C-419639-001015-81591-0.png</td>\n",
       "      <td>positive</td>\n",
       "      <td>ricord</td>\n",
       "    </tr>\n",
       "    <tr>\n",
       "      <th>4</th>\n",
       "      <td>SITE2-000265</td>\n",
       "      <td>MIDRC-RICORD-1C-SITE2-000265-99793-1.png</td>\n",
       "      <td>positive</td>\n",
       "      <td>ricord</td>\n",
       "    </tr>\n",
       "  </tbody>\n",
       "</table>\n",
       "</div>"
      ],
      "text/plain": [
       "   419639-003251  MIDRC-RICORD-1C-419639-003251-46647-0.png  positive  ricord\n",
       "0  419639-001464  MIDRC-RICORD-1C-419639-001464-39871-0.png  positive  ricord\n",
       "1  419639-000918  MIDRC-RICORD-1C-419639-000918-78965-0.png  positive  ricord\n",
       "2  419639-003318  MIDRC-RICORD-1C-419639-003318-64285-0.png  positive  ricord\n",
       "3  419639-001015  MIDRC-RICORD-1C-419639-001015-81591-0.png  positive  ricord\n",
       "4   SITE2-000265   MIDRC-RICORD-1C-SITE2-000265-99793-1.png  positive  ricord"
      ]
     },
     "execution_count": 122,
     "metadata": {},
     "output_type": "execute_result"
    }
   ],
   "source": [
    "df_test.head()"
   ]
  },
  {
   "cell_type": "markdown",
   "metadata": {},
   "source": [
    "### Giving column names to the data"
   ]
  },
  {
   "cell_type": "code",
   "execution_count": 123,
   "metadata": {},
   "outputs": [],
   "source": [
    "df_test.columns=[\"id\",\"file name\",\"class\",\"data source\"]"
   ]
  },
  {
   "cell_type": "code",
   "execution_count": 124,
   "metadata": {},
   "outputs": [
    {
     "data": {
      "text/html": [
       "<div>\n",
       "<style scoped>\n",
       "    .dataframe tbody tr th:only-of-type {\n",
       "        vertical-align: middle;\n",
       "    }\n",
       "\n",
       "    .dataframe tbody tr th {\n",
       "        vertical-align: top;\n",
       "    }\n",
       "\n",
       "    .dataframe thead th {\n",
       "        text-align: right;\n",
       "    }\n",
       "</style>\n",
       "<table border=\"1\" class=\"dataframe\">\n",
       "  <thead>\n",
       "    <tr style=\"text-align: right;\">\n",
       "      <th></th>\n",
       "      <th>id</th>\n",
       "      <th>file name</th>\n",
       "      <th>class</th>\n",
       "      <th>data source</th>\n",
       "    </tr>\n",
       "  </thead>\n",
       "  <tbody>\n",
       "    <tr>\n",
       "      <th>0</th>\n",
       "      <td>419639-001464</td>\n",
       "      <td>MIDRC-RICORD-1C-419639-001464-39871-0.png</td>\n",
       "      <td>positive</td>\n",
       "      <td>ricord</td>\n",
       "    </tr>\n",
       "    <tr>\n",
       "      <th>1</th>\n",
       "      <td>419639-000918</td>\n",
       "      <td>MIDRC-RICORD-1C-419639-000918-78965-0.png</td>\n",
       "      <td>positive</td>\n",
       "      <td>ricord</td>\n",
       "    </tr>\n",
       "    <tr>\n",
       "      <th>2</th>\n",
       "      <td>419639-003318</td>\n",
       "      <td>MIDRC-RICORD-1C-419639-003318-64285-0.png</td>\n",
       "      <td>positive</td>\n",
       "      <td>ricord</td>\n",
       "    </tr>\n",
       "    <tr>\n",
       "      <th>3</th>\n",
       "      <td>419639-001015</td>\n",
       "      <td>MIDRC-RICORD-1C-419639-001015-81591-0.png</td>\n",
       "      <td>positive</td>\n",
       "      <td>ricord</td>\n",
       "    </tr>\n",
       "    <tr>\n",
       "      <th>4</th>\n",
       "      <td>SITE2-000265</td>\n",
       "      <td>MIDRC-RICORD-1C-SITE2-000265-99793-1.png</td>\n",
       "      <td>positive</td>\n",
       "      <td>ricord</td>\n",
       "    </tr>\n",
       "  </tbody>\n",
       "</table>\n",
       "</div>"
      ],
      "text/plain": [
       "              id                                  file name     class  \\\n",
       "0  419639-001464  MIDRC-RICORD-1C-419639-001464-39871-0.png  positive   \n",
       "1  419639-000918  MIDRC-RICORD-1C-419639-000918-78965-0.png  positive   \n",
       "2  419639-003318  MIDRC-RICORD-1C-419639-003318-64285-0.png  positive   \n",
       "3  419639-001015  MIDRC-RICORD-1C-419639-001015-81591-0.png  positive   \n",
       "4   SITE2-000265   MIDRC-RICORD-1C-SITE2-000265-99793-1.png  positive   \n",
       "\n",
       "  data source  \n",
       "0      ricord  \n",
       "1      ricord  \n",
       "2      ricord  \n",
       "3      ricord  \n",
       "4      ricord  "
      ]
     },
     "execution_count": 124,
     "metadata": {},
     "output_type": "execute_result"
    }
   ],
   "source": [
    "df_test.head()"
   ]
  },
  {
   "cell_type": "code",
   "execution_count": 125,
   "metadata": {},
   "outputs": [],
   "source": [
    "df_train=pd.read_csv(r'C:\\Users\\User1\\OneDrive\\Desktop\\CovidProject\\train.txt',sep=\" \")"
   ]
  },
  {
   "cell_type": "code",
   "execution_count": 126,
   "metadata": {},
   "outputs": [],
   "source": [
    "df_train.columns=[\"id\",\"file name\",\"class\",\"data source\"]"
   ]
  },
  {
   "cell_type": "markdown",
   "metadata": {},
   "source": [
    "### Checking for null values "
   ]
  },
  {
   "cell_type": "code",
   "execution_count": 127,
   "metadata": {},
   "outputs": [
    {
     "data": {
      "text/plain": [
       "id             0\n",
       "file name      0\n",
       "class          0\n",
       "data source    0\n",
       "dtype: int64"
      ]
     },
     "execution_count": 127,
     "metadata": {},
     "output_type": "execute_result"
    }
   ],
   "source": [
    "df_train.isnull().sum()"
   ]
  },
  {
   "cell_type": "code",
   "execution_count": 128,
   "metadata": {},
   "outputs": [
    {
     "data": {
      "text/plain": [
       "id             0\n",
       "file name      0\n",
       "class          0\n",
       "data source    0\n",
       "dtype: int64"
      ]
     },
     "execution_count": 128,
     "metadata": {},
     "output_type": "execute_result"
    }
   ],
   "source": [
    "df_test.isnull().sum()"
   ]
  },
  {
   "cell_type": "code",
   "execution_count": 129,
   "metadata": {},
   "outputs": [
    {
     "data": {
      "text/plain": [
       "array(['negative', 'positive'], dtype=object)"
      ]
     },
     "execution_count": 129,
     "metadata": {},
     "output_type": "execute_result"
    }
   ],
   "source": [
    "df_train[\"class\"].unique()"
   ]
  },
  {
   "cell_type": "code",
   "execution_count": 130,
   "metadata": {},
   "outputs": [
    {
     "data": {
      "text/plain": [
       "negative    13792\n",
       "positive     2158\n",
       "Name: class, dtype: int64"
      ]
     },
     "execution_count": 130,
     "metadata": {},
     "output_type": "execute_result"
    }
   ],
   "source": [
    "df_train[\"class\"].value_counts()"
   ]
  },
  {
   "cell_type": "code",
   "execution_count": 131,
   "metadata": {},
   "outputs": [
    {
     "data": {
      "text/plain": [
       "negative    200\n",
       "positive    199\n",
       "Name: class, dtype: int64"
      ]
     },
     "execution_count": 131,
     "metadata": {},
     "output_type": "execute_result"
    }
   ],
   "source": [
    "df_test[\"class\"].value_counts()"
   ]
  },
  {
   "cell_type": "markdown",
   "metadata": {},
   "source": [
    "## 1-Transfer Learning on VGG-16 without Data Augmentation"
   ]
  },
  {
   "cell_type": "markdown",
   "metadata": {},
   "source": [
    "### Making another data frame with all the negative samples"
   ]
  },
  {
   "cell_type": "code",
   "execution_count": 132,
   "metadata": {},
   "outputs": [
    {
     "data": {
      "text/plain": [
       "(13792, 4)"
      ]
     },
     "execution_count": 132,
     "metadata": {},
     "output_type": "execute_result"
    }
   ],
   "source": [
    "df_train_negative=df_train[df_train[\"class\"]==\"negative\"]\n",
    "df_train_negative.shape"
   ]
  },
  {
   "cell_type": "code",
   "execution_count": 133,
   "metadata": {},
   "outputs": [],
   "source": [
    "df_train.drop(df_train[df_train[\"class\"]==\"negative\"].index,inplace=True)"
   ]
  },
  {
   "cell_type": "code",
   "execution_count": 135,
   "metadata": {},
   "outputs": [
    {
     "data": {
      "text/plain": [
       "positive    2158\n",
       "Name: class, dtype: int64"
      ]
     },
     "execution_count": 135,
     "metadata": {},
     "output_type": "execute_result"
    }
   ],
   "source": [
    "df_train[\"class\"].value_counts()"
   ]
  },
  {
   "cell_type": "markdown",
   "metadata": {},
   "source": [
    "### Randomly sampling data from negative samples to equal the number of positive samples "
   ]
  },
  {
   "cell_type": "code",
   "execution_count": 136,
   "metadata": {},
   "outputs": [],
   "source": [
    "df_train_negative=df_train_negative.sample(n=2158,replace=False,random_state=5)"
   ]
  },
  {
   "cell_type": "code",
   "execution_count": 138,
   "metadata": {},
   "outputs": [
    {
     "data": {
      "text/plain": [
       "negative    2158\n",
       "Name: class, dtype: int64"
      ]
     },
     "execution_count": 138,
     "metadata": {},
     "output_type": "execute_result"
    }
   ],
   "source": [
    "df_train_negative[\"class\"].value_counts()"
   ]
  },
  {
   "cell_type": "markdown",
   "metadata": {},
   "source": [
    "### Concatinating the positive and negative samples "
   ]
  },
  {
   "cell_type": "code",
   "execution_count": 139,
   "metadata": {},
   "outputs": [],
   "source": [
    "df_train_reduced=pd.concat([df_train,df_train_negative],axis=0)"
   ]
  },
  {
   "cell_type": "code",
   "execution_count": 140,
   "metadata": {},
   "outputs": [
    {
     "data": {
      "text/plain": [
       "negative    2158\n",
       "positive    2158\n",
       "Name: class, dtype: int64"
      ]
     },
     "execution_count": 140,
     "metadata": {},
     "output_type": "execute_result"
    }
   ],
   "source": [
    "df_train_reduced[\"class\"].value_counts()"
   ]
  },
  {
   "cell_type": "code",
   "execution_count": 141,
   "metadata": {},
   "outputs": [],
   "source": [
    "df_train_reduced=df_train_reduced.sample(frac=1)"
   ]
  },
  {
   "cell_type": "markdown",
   "metadata": {},
   "source": [
    "### Re-shuffling positve and negative samples "
   ]
  },
  {
   "cell_type": "code",
   "execution_count": 143,
   "metadata": {},
   "outputs": [],
   "source": [
    "df_train=df_train_reduced"
   ]
  },
  {
   "cell_type": "code",
   "execution_count": 144,
   "metadata": {},
   "outputs": [
    {
     "data": {
      "text/plain": [
       "negative    2158\n",
       "positive    2158\n",
       "Name: class, dtype: int64"
      ]
     },
     "execution_count": 144,
     "metadata": {},
     "output_type": "execute_result"
    }
   ],
   "source": [
    "df_train[\"class\"].value_counts()"
   ]
  },
  {
   "cell_type": "markdown",
   "metadata": {},
   "source": [
    "### Dropping unnecessary columns from the data set"
   ]
  },
  {
   "cell_type": "code",
   "execution_count": 146,
   "metadata": {},
   "outputs": [],
   "source": [
    "df_test.drop([\"id\",\"data source\"],axis=1,inplace=True)"
   ]
  },
  {
   "cell_type": "code",
   "execution_count": 147,
   "metadata": {},
   "outputs": [],
   "source": [
    "df_train.drop([\"id\",\"data source\"],axis=1,inplace=True)"
   ]
  },
  {
   "cell_type": "code",
   "execution_count": 148,
   "metadata": {},
   "outputs": [
    {
     "data": {
      "text/html": [
       "<div>\n",
       "<style scoped>\n",
       "    .dataframe tbody tr th:only-of-type {\n",
       "        vertical-align: middle;\n",
       "    }\n",
       "\n",
       "    .dataframe tbody tr th {\n",
       "        vertical-align: top;\n",
       "    }\n",
       "\n",
       "    .dataframe thead th {\n",
       "        text-align: right;\n",
       "    }\n",
       "</style>\n",
       "<table border=\"1\" class=\"dataframe\">\n",
       "  <thead>\n",
       "    <tr style=\"text-align: right;\">\n",
       "      <th></th>\n",
       "      <th>file name</th>\n",
       "      <th>class</th>\n",
       "    </tr>\n",
       "  </thead>\n",
       "  <tbody>\n",
       "    <tr>\n",
       "      <th>1905</th>\n",
       "      <td>MIDRC-RICORD-1C-SITE2-000251-01666-0.png</td>\n",
       "      <td>positive</td>\n",
       "    </tr>\n",
       "    <tr>\n",
       "      <th>2512</th>\n",
       "      <td>MIDRC-RICORD-1C-SITE2-000251-96070-0.png</td>\n",
       "      <td>positive</td>\n",
       "    </tr>\n",
       "    <tr>\n",
       "      <th>3217</th>\n",
       "      <td>35412b65-c05b-4b5d-b97c-e4c7b6e8211d.png</td>\n",
       "      <td>negative</td>\n",
       "    </tr>\n",
       "    <tr>\n",
       "      <th>1010</th>\n",
       "      <td>COVID(306).png</td>\n",
       "      <td>positive</td>\n",
       "    </tr>\n",
       "    <tr>\n",
       "      <th>539</th>\n",
       "      <td>covid-19-pneumonia-progression-and-regression-...</td>\n",
       "      <td>positive</td>\n",
       "    </tr>\n",
       "  </tbody>\n",
       "</table>\n",
       "</div>"
      ],
      "text/plain": [
       "                                              file name     class\n",
       "1905           MIDRC-RICORD-1C-SITE2-000251-01666-0.png  positive\n",
       "2512           MIDRC-RICORD-1C-SITE2-000251-96070-0.png  positive\n",
       "3217           35412b65-c05b-4b5d-b97c-e4c7b6e8211d.png  negative\n",
       "1010                                     COVID(306).png  positive\n",
       "539   covid-19-pneumonia-progression-and-regression-...  positive"
      ]
     },
     "execution_count": 148,
     "metadata": {},
     "output_type": "execute_result"
    }
   ],
   "source": [
    "df_train.head()"
   ]
  },
  {
   "cell_type": "code",
   "execution_count": 149,
   "metadata": {},
   "outputs": [
    {
     "data": {
      "text/html": [
       "<div>\n",
       "<style scoped>\n",
       "    .dataframe tbody tr th:only-of-type {\n",
       "        vertical-align: middle;\n",
       "    }\n",
       "\n",
       "    .dataframe tbody tr th {\n",
       "        vertical-align: top;\n",
       "    }\n",
       "\n",
       "    .dataframe thead th {\n",
       "        text-align: right;\n",
       "    }\n",
       "</style>\n",
       "<table border=\"1\" class=\"dataframe\">\n",
       "  <thead>\n",
       "    <tr style=\"text-align: right;\">\n",
       "      <th></th>\n",
       "      <th>file name</th>\n",
       "      <th>class</th>\n",
       "    </tr>\n",
       "  </thead>\n",
       "  <tbody>\n",
       "    <tr>\n",
       "      <th>0</th>\n",
       "      <td>MIDRC-RICORD-1C-419639-001464-39871-0.png</td>\n",
       "      <td>positive</td>\n",
       "    </tr>\n",
       "    <tr>\n",
       "      <th>1</th>\n",
       "      <td>MIDRC-RICORD-1C-419639-000918-78965-0.png</td>\n",
       "      <td>positive</td>\n",
       "    </tr>\n",
       "    <tr>\n",
       "      <th>2</th>\n",
       "      <td>MIDRC-RICORD-1C-419639-003318-64285-0.png</td>\n",
       "      <td>positive</td>\n",
       "    </tr>\n",
       "    <tr>\n",
       "      <th>3</th>\n",
       "      <td>MIDRC-RICORD-1C-419639-001015-81591-0.png</td>\n",
       "      <td>positive</td>\n",
       "    </tr>\n",
       "    <tr>\n",
       "      <th>4</th>\n",
       "      <td>MIDRC-RICORD-1C-SITE2-000265-99793-1.png</td>\n",
       "      <td>positive</td>\n",
       "    </tr>\n",
       "  </tbody>\n",
       "</table>\n",
       "</div>"
      ],
      "text/plain": [
       "                                   file name     class\n",
       "0  MIDRC-RICORD-1C-419639-001464-39871-0.png  positive\n",
       "1  MIDRC-RICORD-1C-419639-000918-78965-0.png  positive\n",
       "2  MIDRC-RICORD-1C-419639-003318-64285-0.png  positive\n",
       "3  MIDRC-RICORD-1C-419639-001015-81591-0.png  positive\n",
       "4   MIDRC-RICORD-1C-SITE2-000265-99793-1.png  positive"
      ]
     },
     "execution_count": 149,
     "metadata": {},
     "output_type": "execute_result"
    }
   ],
   "source": [
    "df_test.head()"
   ]
  },
  {
   "cell_type": "markdown",
   "metadata": {},
   "source": [
    "### Importing the VGG-16 model along with the weights for transfer learning "
   ]
  },
  {
   "cell_type": "code",
   "execution_count": 45,
   "metadata": {},
   "outputs": [],
   "source": [
    "from tensorflow.keras.applications.vgg16 import VGG16\n",
    "\n",
    "base_model = VGG16(input_shape = (224, 224, 3), # Shape of our images\n",
    "include_top = False, # Leave out the last fully connected layer\n",
    "weights = 'imagenet')"
   ]
  },
  {
   "cell_type": "code",
   "execution_count": 46,
   "metadata": {},
   "outputs": [
    {
     "name": "stdout",
     "output_type": "stream",
     "text": [
      "Model: \"vgg16\"\n",
      "_________________________________________________________________\n",
      "Layer (type)                 Output Shape              Param #   \n",
      "=================================================================\n",
      "input_2 (InputLayer)         [(None, 224, 224, 3)]     0         \n",
      "_________________________________________________________________\n",
      "block1_conv1 (Conv2D)        (None, 224, 224, 64)      1792      \n",
      "_________________________________________________________________\n",
      "block1_conv2 (Conv2D)        (None, 224, 224, 64)      36928     \n",
      "_________________________________________________________________\n",
      "block1_pool (MaxPooling2D)   (None, 112, 112, 64)      0         \n",
      "_________________________________________________________________\n",
      "block2_conv1 (Conv2D)        (None, 112, 112, 128)     73856     \n",
      "_________________________________________________________________\n",
      "block2_conv2 (Conv2D)        (None, 112, 112, 128)     147584    \n",
      "_________________________________________________________________\n",
      "block2_pool (MaxPooling2D)   (None, 56, 56, 128)       0         \n",
      "_________________________________________________________________\n",
      "block3_conv1 (Conv2D)        (None, 56, 56, 256)       295168    \n",
      "_________________________________________________________________\n",
      "block3_conv2 (Conv2D)        (None, 56, 56, 256)       590080    \n",
      "_________________________________________________________________\n",
      "block3_conv3 (Conv2D)        (None, 56, 56, 256)       590080    \n",
      "_________________________________________________________________\n",
      "block3_pool (MaxPooling2D)   (None, 28, 28, 256)       0         \n",
      "_________________________________________________________________\n",
      "block4_conv1 (Conv2D)        (None, 28, 28, 512)       1180160   \n",
      "_________________________________________________________________\n",
      "block4_conv2 (Conv2D)        (None, 28, 28, 512)       2359808   \n",
      "_________________________________________________________________\n",
      "block4_conv3 (Conv2D)        (None, 28, 28, 512)       2359808   \n",
      "_________________________________________________________________\n",
      "block4_pool (MaxPooling2D)   (None, 14, 14, 512)       0         \n",
      "_________________________________________________________________\n",
      "block5_conv1 (Conv2D)        (None, 14, 14, 512)       2359808   \n",
      "_________________________________________________________________\n",
      "block5_conv2 (Conv2D)        (None, 14, 14, 512)       2359808   \n",
      "_________________________________________________________________\n",
      "block5_conv3 (Conv2D)        (None, 14, 14, 512)       2359808   \n",
      "_________________________________________________________________\n",
      "block5_pool (MaxPooling2D)   (None, 7, 7, 512)         0         \n",
      "=================================================================\n",
      "Total params: 14,714,688\n",
      "Trainable params: 14,714,688\n",
      "Non-trainable params: 0\n",
      "_________________________________________________________________\n"
     ]
    }
   ],
   "source": [
    "base_model.summary()"
   ]
  },
  {
   "cell_type": "markdown",
   "metadata": {},
   "source": [
    "### Setting the training of all the layers in the base model to False and using the pre trained weights"
   ]
  },
  {
   "cell_type": "code",
   "execution_count": 47,
   "metadata": {},
   "outputs": [],
   "source": [
    "for layer in base_model.layers:\n",
    "    layer.trainable = False"
   ]
  },
  {
   "cell_type": "markdown",
   "metadata": {},
   "source": [
    "### Copying the files from the training data folder to 2 different folders names 'positive' and 'negative' under the main training folder "
   ]
  },
  {
   "cell_type": "code",
   "execution_count": 48,
   "metadata": {},
   "outputs": [],
   "source": [
    "s=\"C:\\\\Users\\\\User1\\\\OneDrive\\\\Desktop\\\\CovidProject\\\\train\\\\\""
   ]
  },
  {
   "cell_type": "code",
   "execution_count": 152,
   "metadata": {
    "scrolled": true
   },
   "outputs": [],
   "source": [
    "import shutil, os\n",
    "for (f,c) in zip(df_train[\"file name\"],df_train[\"class\"]):\n",
    "        if c==\"positive\":\n",
    "            shutil.copy(s+f, 'C:\\\\Users\\\\User1\\\\OneDrive\\\\Desktop\\\\CovidProject\\\\train_final\\\\positive')\n",
    "        else:\n",
    "            shutil.copy(s+f, 'C:\\\\Users\\\\User1\\\\OneDrive\\\\Desktop\\\\CovidProject\\\\train_final\\\\negative')"
   ]
  },
  {
   "cell_type": "markdown",
   "metadata": {},
   "source": [
    "### Re-scaling the RGB values between 0-1 for faster training and better accuracy"
   ]
  },
  {
   "cell_type": "code",
   "execution_count": 49,
   "metadata": {},
   "outputs": [],
   "source": [
    "train_datagen = ImageDataGenerator( rescale = 1.0/255. )\n",
    "valid_datagen = ImageDataGenerator( rescale = 1.0/255. )"
   ]
  },
  {
   "cell_type": "code",
   "execution_count": 50,
   "metadata": {},
   "outputs": [],
   "source": [
    "train_dir=\"C:\\\\Users\\\\User1\\\\OneDrive\\\\Desktop\\\\CovidProject\\\\train_final\"\n",
    "validation_dir=\"C:\\\\Users\\\\User1\\\\OneDrive\\\\Desktop\\\\CovidProject\\\\validation\""
   ]
  },
  {
   "cell_type": "markdown",
   "metadata": {},
   "source": [
    "### Initialising Image generator for feeding training and validation image samples to the model"
   ]
  },
  {
   "cell_type": "code",
   "execution_count": 51,
   "metadata": {},
   "outputs": [
    {
     "name": "stdout",
     "output_type": "stream",
     "text": [
      "Found 4316 images belonging to 2 classes.\n"
     ]
    }
   ],
   "source": [
    "train_generator = train_datagen.flow_from_directory(train_dir, batch_size = 50, class_mode = 'binary', target_size = (224, 224))"
   ]
  },
  {
   "cell_type": "code",
   "execution_count": 52,
   "metadata": {},
   "outputs": [
    {
     "name": "stdout",
     "output_type": "stream",
     "text": [
      "Found 400 images belonging to 2 classes.\n"
     ]
    }
   ],
   "source": [
    "validation_generator = valid_datagen.flow_from_directory( validation_dir,  batch_size = 50, class_mode = 'binary', target_size = (224, 224))"
   ]
  },
  {
   "cell_type": "markdown",
   "metadata": {},
   "source": [
    "### Adding layers in the end to classify images as positive and negative (Binary Classification) using sigmoid function"
   ]
  },
  {
   "cell_type": "code",
   "execution_count": 53,
   "metadata": {},
   "outputs": [],
   "source": [
    "\n",
    "# Flatten the output layer to 1 dimension\n",
    "x = layers.Flatten()(base_model.output)\n",
    "\n",
    "# Add a fully connected layer with 512 hidden units and ReLU activation\n",
    "x = layers.Dense(512, activation='relu')(x)\n",
    "\n",
    "# Add a dropout rate of 0.5\n",
    "x = layers.Dropout(0.5)(x)\n",
    "\n",
    "# Add a final sigmoid layer for classification\n",
    "x = layers.Dense(1, activation='sigmoid')(x)\n",
    "\n",
    "model = tf.keras.models.Model(base_model.input, x)\n",
    "\n",
    "model.compile(optimizer = tf.keras.optimizers.RMSprop(lr=0.0001), loss = 'binary_crossentropy',metrics = ['acc'])"
   ]
  },
  {
   "cell_type": "code",
   "execution_count": 54,
   "metadata": {},
   "outputs": [
    {
     "name": "stdout",
     "output_type": "stream",
     "text": [
      "Model: \"functional_3\"\n",
      "_________________________________________________________________\n",
      "Layer (type)                 Output Shape              Param #   \n",
      "=================================================================\n",
      "input_2 (InputLayer)         [(None, 224, 224, 3)]     0         \n",
      "_________________________________________________________________\n",
      "block1_conv1 (Conv2D)        (None, 224, 224, 64)      1792      \n",
      "_________________________________________________________________\n",
      "block1_conv2 (Conv2D)        (None, 224, 224, 64)      36928     \n",
      "_________________________________________________________________\n",
      "block1_pool (MaxPooling2D)   (None, 112, 112, 64)      0         \n",
      "_________________________________________________________________\n",
      "block2_conv1 (Conv2D)        (None, 112, 112, 128)     73856     \n",
      "_________________________________________________________________\n",
      "block2_conv2 (Conv2D)        (None, 112, 112, 128)     147584    \n",
      "_________________________________________________________________\n",
      "block2_pool (MaxPooling2D)   (None, 56, 56, 128)       0         \n",
      "_________________________________________________________________\n",
      "block3_conv1 (Conv2D)        (None, 56, 56, 256)       295168    \n",
      "_________________________________________________________________\n",
      "block3_conv2 (Conv2D)        (None, 56, 56, 256)       590080    \n",
      "_________________________________________________________________\n",
      "block3_conv3 (Conv2D)        (None, 56, 56, 256)       590080    \n",
      "_________________________________________________________________\n",
      "block3_pool (MaxPooling2D)   (None, 28, 28, 256)       0         \n",
      "_________________________________________________________________\n",
      "block4_conv1 (Conv2D)        (None, 28, 28, 512)       1180160   \n",
      "_________________________________________________________________\n",
      "block4_conv2 (Conv2D)        (None, 28, 28, 512)       2359808   \n",
      "_________________________________________________________________\n",
      "block4_conv3 (Conv2D)        (None, 28, 28, 512)       2359808   \n",
      "_________________________________________________________________\n",
      "block4_pool (MaxPooling2D)   (None, 14, 14, 512)       0         \n",
      "_________________________________________________________________\n",
      "block5_conv1 (Conv2D)        (None, 14, 14, 512)       2359808   \n",
      "_________________________________________________________________\n",
      "block5_conv2 (Conv2D)        (None, 14, 14, 512)       2359808   \n",
      "_________________________________________________________________\n",
      "block5_conv3 (Conv2D)        (None, 14, 14, 512)       2359808   \n",
      "_________________________________________________________________\n",
      "block5_pool (MaxPooling2D)   (None, 7, 7, 512)         0         \n",
      "_________________________________________________________________\n",
      "flatten_2 (Flatten)          (None, 25088)             0         \n",
      "_________________________________________________________________\n",
      "dense_4 (Dense)              (None, 512)               12845568  \n",
      "_________________________________________________________________\n",
      "dropout_6 (Dropout)          (None, 512)               0         \n",
      "_________________________________________________________________\n",
      "dense_5 (Dense)              (None, 1)                 513       \n",
      "=================================================================\n",
      "Total params: 27,560,769\n",
      "Trainable params: 12,846,081\n",
      "Non-trainable params: 14,714,688\n",
      "_________________________________________________________________\n"
     ]
    }
   ],
   "source": [
    "model.summary()"
   ]
  },
  {
   "cell_type": "markdown",
   "metadata": {},
   "source": [
    "### Training"
   ]
  },
  {
   "cell_type": "code",
   "execution_count": 55,
   "metadata": {},
   "outputs": [
    {
     "name": "stdout",
     "output_type": "stream",
     "text": [
      "Epoch 1/10\n",
      "87/87 [==============================] - 801s 9s/step - loss: 0.5236 - acc: 0.7743 - val_loss: 0.2598 - val_acc: 0.8975\n",
      "Epoch 2/10\n",
      "87/87 [==============================] - 808s 9s/step - loss: 0.2920 - acc: 0.8784 - val_loss: 0.2137 - val_acc: 0.9175\n",
      "Epoch 3/10\n",
      "87/87 [==============================] - 837s 10s/step - loss: 0.2369 - acc: 0.9034 - val_loss: 0.1708 - val_acc: 0.9350\n",
      "Epoch 4/10\n",
      "87/87 [==============================] - 804s 9s/step - loss: 0.2028 - acc: 0.9189 - val_loss: 0.1530 - val_acc: 0.9425\n",
      "Epoch 5/10\n",
      "87/87 [==============================] - 803s 9s/step - loss: 0.1827 - acc: 0.9275 - val_loss: 0.1434 - val_acc: 0.9500\n",
      "Epoch 6/10\n",
      "87/87 [==============================] - 803s 9s/step - loss: 0.1706 - acc: 0.9314 - val_loss: 0.1712 - val_acc: 0.9425\n",
      "Epoch 7/10\n",
      "87/87 [==============================] - 803s 9s/step - loss: 0.1509 - acc: 0.9472 - val_loss: 0.4429 - val_acc: 0.8600\n",
      "Epoch 8/10\n",
      "87/87 [==============================] - 826s 9s/step - loss: 0.1420 - acc: 0.9479 - val_loss: 0.1127 - val_acc: 0.9625\n",
      "Epoch 9/10\n",
      "87/87 [==============================] - 806s 9s/step - loss: 0.1331 - acc: 0.9500 - val_loss: 0.1606 - val_acc: 0.9475\n",
      "Epoch 10/10\n",
      "87/87 [==============================] - 807s 9s/step - loss: 0.1208 - acc: 0.9567 - val_loss: 0.1098 - val_acc: 0.9650\n"
     ]
    }
   ],
   "source": [
    "vgghist = model.fit(train_generator, validation_data=validation_generator, steps_per_epoch = 87, epochs = 10)"
   ]
  },
  {
   "cell_type": "markdown",
   "metadata": {},
   "source": [
    "### Plotting Training and Validation accuracy and loss"
   ]
  },
  {
   "cell_type": "code",
   "execution_count": 56,
   "metadata": {},
   "outputs": [],
   "source": [
    "train_acc= vgghist.history['acc']\n",
    "train_loss = vgghist.history['loss']\n",
    "valid_acc= vgghist.history['val_acc']\n",
    "valid_loss= vgghist.history['val_loss']"
   ]
  },
  {
   "cell_type": "code",
   "execution_count": 57,
   "metadata": {},
   "outputs": [
    {
     "data": {
      "text/plain": [
       "<matplotlib.legend.Legend at 0x1be34349190>"
      ]
     },
     "execution_count": 57,
     "metadata": {},
     "output_type": "execute_result"
    },
    {
     "data": {
      "image/png": "[encoded data removed]",
      "text/plain": [
       "<Figure size 1080x1080 with 2 Axes>"
      ]
     },
     "metadata": {
      "needs_background": "light"
     },
     "output_type": "display_data"
    }
   ],
   "source": [
    "plt.figure(figsize=(15, 15))\n",
    "plt.subplot(2, 2, 1)\n",
    "plt.plot(train_acc, label='Training Accuracy')\n",
    "plt.plot(valid_acc,label='Validation Accuracy')\n",
    "plt.title('Training and Validation Accuracy')\n",
    "plt.legend()\n",
    "plt.subplot(2,2,2)\n",
    "plt.plot(train_loss, label='Training Loss')\n",
    "plt.plot(valid_loss,label='Validation Loss')\n",
    "plt.title('Training and Validation Loss')\n",
    "plt.legend()"
   ]
  },
  {
   "cell_type": "markdown",
   "metadata": {},
   "source": [
    "#### The accuracy begins with 77% and goes up to 95.67% in the last epoch and on the test set we have a max. accuracy of 96.5%.  Because of Transfer Learning we are able to get such high accuracies even without Data Augmentation"
   ]
  },
  {
   "cell_type": "code",
   "execution_count": 68,
   "metadata": {},
   "outputs": [],
   "source": [
    "model.save(\"model_vgg.h5\")"
   ]
  },
  {
   "cell_type": "markdown",
   "metadata": {},
   "source": [
    "## 2-Transfer Learning on VGG-16 with Data Augmentation"
   ]
  },
  {
   "cell_type": "markdown",
   "metadata": {},
   "source": [
    "### Loading the data set again with all samples"
   ]
  },
  {
   "cell_type": "code",
   "execution_count": 16,
   "metadata": {},
   "outputs": [],
   "source": [
    "df_train_VGG_A=pd.read_csv(r'C:\\Users\\User1\\OneDrive\\Desktop\\CovidProject\\train.txt',sep=\" \")"
   ]
  },
  {
   "cell_type": "code",
   "execution_count": 17,
   "metadata": {},
   "outputs": [],
   "source": [
    "df_train_VGG_A.columns=[\"id\",\"file name\",\"class\",\"data source\"]"
   ]
  },
  {
   "cell_type": "code",
   "execution_count": 18,
   "metadata": {},
   "outputs": [],
   "source": [
    "df_train_VGG_A.drop([\"id\",\"data source\"],axis=1,inplace=True)"
   ]
  },
  {
   "cell_type": "code",
   "execution_count": 19,
   "metadata": {},
   "outputs": [
    {
     "data": {
      "text/html": [
       "<div>\n",
       "<style scoped>\n",
       "    .dataframe tbody tr th:only-of-type {\n",
       "        vertical-align: middle;\n",
       "    }\n",
       "\n",
       "    .dataframe tbody tr th {\n",
       "        vertical-align: top;\n",
       "    }\n",
       "\n",
       "    .dataframe thead th {\n",
       "        text-align: right;\n",
       "    }\n",
       "</style>\n",
       "<table border=\"1\" class=\"dataframe\">\n",
       "  <thead>\n",
       "    <tr style=\"text-align: right;\">\n",
       "      <th></th>\n",
       "      <th>file name</th>\n",
       "      <th>class</th>\n",
       "    </tr>\n",
       "  </thead>\n",
       "  <tbody>\n",
       "    <tr>\n",
       "      <th>0</th>\n",
       "      <td>acute-respiratory-distress-syndrome-ards-1.jpg</td>\n",
       "      <td>negative</td>\n",
       "    </tr>\n",
       "    <tr>\n",
       "      <th>1</th>\n",
       "      <td>acute-respiratory-distress-syndrome-ards.jpg</td>\n",
       "      <td>negative</td>\n",
       "    </tr>\n",
       "    <tr>\n",
       "      <th>2</th>\n",
       "      <td>ards-secondary-to-tiger-snake-bite.png</td>\n",
       "      <td>negative</td>\n",
       "    </tr>\n",
       "    <tr>\n",
       "      <th>3</th>\n",
       "      <td>pneumocystis-pneumonia-2-PA.png</td>\n",
       "      <td>negative</td>\n",
       "    </tr>\n",
       "    <tr>\n",
       "      <th>4</th>\n",
       "      <td>F051E018-DAD1-4506-AD43-BE4CA29E960B.jpeg</td>\n",
       "      <td>negative</td>\n",
       "    </tr>\n",
       "  </tbody>\n",
       "</table>\n",
       "</div>"
      ],
      "text/plain": [
       "                                        file name     class\n",
       "0  acute-respiratory-distress-syndrome-ards-1.jpg  negative\n",
       "1    acute-respiratory-distress-syndrome-ards.jpg  negative\n",
       "2          ards-secondary-to-tiger-snake-bite.png  negative\n",
       "3                 pneumocystis-pneumonia-2-PA.png  negative\n",
       "4       F051E018-DAD1-4506-AD43-BE4CA29E960B.jpeg  negative"
      ]
     },
     "execution_count": 19,
     "metadata": {},
     "output_type": "execute_result"
    }
   ],
   "source": [
    "df_train_VGG_A.head()"
   ]
  },
  {
   "cell_type": "markdown",
   "metadata": {},
   "source": [
    "### Giving ImageDataGenerator parameters for doing Data Augmentation"
   ]
  },
  {
   "cell_type": "markdown",
   "metadata": {},
   "source": [
    "1. Rotation Range of 20 degrees which is close to human error while taking photos\n",
    "2. width_shift_range 0f .1 for minor horizontal shifts \n",
    "3. height_shift_range of .1 for minor vertical shifts\n",
    "4. zoom range of .1 for minor zoomed in images "
   ]
  },
  {
   "cell_type": "code",
   "execution_count": 20,
   "metadata": {},
   "outputs": [],
   "source": [
    "datagen = ImageDataGenerator(rotation_range = 20, width_shift_range = 0.1, height_shift_range = 0.1, zoom_range = 0.1)"
   ]
  },
  {
   "cell_type": "code",
   "execution_count": 25,
   "metadata": {},
   "outputs": [],
   "source": [
    "df_train_VGG_A.drop(df_train_VGG_A[df_train_VGG_A[\"class\"]==\"negative\"].index,inplace=True)"
   ]
  },
  {
   "cell_type": "markdown",
   "metadata": {},
   "source": [
    "### Giving Image Generator images in batches of 1000 and saving the generated images\n",
    "\n",
    "( Because my RAM was over flowing after 1K images at a go)"
   ]
  },
  {
   "cell_type": "code",
   "execution_count": 12,
   "metadata": {},
   "outputs": [],
   "source": [
    "df_train_VGG_A_0_1000=df_train_VGG_A[:1000]"
   ]
  },
  {
   "cell_type": "code",
   "execution_count": 26,
   "metadata": {},
   "outputs": [],
   "source": [
    "df_train_VGG_A_1000_2000=df_train_VGG_A[1000:2000]"
   ]
  },
  {
   "cell_type": "code",
   "execution_count": 11,
   "metadata": {},
   "outputs": [],
   "source": [
    "df_train_VGG_A_2000_2158=df_train_VGG_A[2000:2159]"
   ]
  },
  {
   "cell_type": "code",
   "execution_count": 28,
   "metadata": {},
   "outputs": [],
   "source": [
    "t='C:\\\\Users\\\\User1\\\\OneDrive\\\\Desktop\\\\CovidProject\\\\train\\\\'\n",
    "for f in df_train_VGG_A_0_1000['file name']:\n",
    "    img=load_img(t+f)\n",
    "    x=img_to_array(img)\n",
    "    x=x.reshape((1,)+x.shape)\n",
    "    i = 0\n",
    "    for batch in datagen.flow(x, batch_size = 1,\n",
    "                          save_to_dir ='C:\\\\Users\\\\User1\\\\OneDrive\\\\Desktop\\\\CovidProject\\\\train_augmented', \n",
    "                          save_prefix =(f[:len(f)-5]+str(i)), save_format ='jpeg'):\n",
    "            i += 1\n",
    "            if i > 5:\n",
    "                break"
   ]
  },
  {
   "cell_type": "markdown",
   "metadata": {},
   "source": [
    "### Importing the VGG-16 model along with the weights for transfer learning  "
   ]
  },
  {
   "cell_type": "code",
   "execution_count": 33,
   "metadata": {},
   "outputs": [],
   "source": [
    "from tensorflow.keras.applications.vgg16 import VGG16\n",
    "\n",
    "base_model = VGG16(input_shape = (224, 224, 3), # Shape of our images\n",
    "include_top = False, # Leave out the last fully connected layer\n",
    "weights = 'imagenet')"
   ]
  },
  {
   "cell_type": "code",
   "execution_count": 34,
   "metadata": {},
   "outputs": [
    {
     "name": "stdout",
     "output_type": "stream",
     "text": [
      "Model: \"vgg16\"\n",
      "_________________________________________________________________\n",
      "Layer (type)                 Output Shape              Param #   \n",
      "=================================================================\n",
      "input_1 (InputLayer)         [(None, 224, 224, 3)]     0         \n",
      "_________________________________________________________________\n",
      "block1_conv1 (Conv2D)        (None, 224, 224, 64)      1792      \n",
      "_________________________________________________________________\n",
      "block1_conv2 (Conv2D)        (None, 224, 224, 64)      36928     \n",
      "_________________________________________________________________\n",
      "block1_pool (MaxPooling2D)   (None, 112, 112, 64)      0         \n",
      "_________________________________________________________________\n",
      "block2_conv1 (Conv2D)        (None, 112, 112, 128)     73856     \n",
      "_________________________________________________________________\n",
      "block2_conv2 (Conv2D)        (None, 112, 112, 128)     147584    \n",
      "_________________________________________________________________\n",
      "block2_pool (MaxPooling2D)   (None, 56, 56, 128)       0         \n",
      "_________________________________________________________________\n",
      "block3_conv1 (Conv2D)        (None, 56, 56, 256)       295168    \n",
      "_________________________________________________________________\n",
      "block3_conv2 (Conv2D)        (None, 56, 56, 256)       590080    \n",
      "_________________________________________________________________\n",
      "block3_conv3 (Conv2D)        (None, 56, 56, 256)       590080    \n",
      "_________________________________________________________________\n",
      "block3_pool (MaxPooling2D)   (None, 28, 28, 256)       0         \n",
      "_________________________________________________________________\n",
      "block4_conv1 (Conv2D)        (None, 28, 28, 512)       1180160   \n",
      "_________________________________________________________________\n",
      "block4_conv2 (Conv2D)        (None, 28, 28, 512)       2359808   \n",
      "_________________________________________________________________\n",
      "block4_conv3 (Conv2D)        (None, 28, 28, 512)       2359808   \n",
      "_________________________________________________________________\n",
      "block4_pool (MaxPooling2D)   (None, 14, 14, 512)       0         \n",
      "_________________________________________________________________\n",
      "block5_conv1 (Conv2D)        (None, 14, 14, 512)       2359808   \n",
      "_________________________________________________________________\n",
      "block5_conv2 (Conv2D)        (None, 14, 14, 512)       2359808   \n",
      "_________________________________________________________________\n",
      "block5_conv3 (Conv2D)        (None, 14, 14, 512)       2359808   \n",
      "_________________________________________________________________\n",
      "block5_pool (MaxPooling2D)   (None, 7, 7, 512)         0         \n",
      "=================================================================\n",
      "Total params: 14,714,688\n",
      "Trainable params: 14,714,688\n",
      "Non-trainable params: 0\n",
      "_________________________________________________________________\n"
     ]
    }
   ],
   "source": [
    "base_model.summary()"
   ]
  },
  {
   "cell_type": "markdown",
   "metadata": {},
   "source": [
    "### Setting the training of all the layers in the base model to False and using the pre trained weights"
   ]
  },
  {
   "cell_type": "code",
   "execution_count": 35,
   "metadata": {},
   "outputs": [],
   "source": [
    "for layer in base_model.layers:\n",
    "    layer.trainable = False"
   ]
  },
  {
   "cell_type": "markdown",
   "metadata": {},
   "source": [
    "### Re-scaling the RGB values between 0-1 for faster training and better accuracy"
   ]
  },
  {
   "cell_type": "code",
   "execution_count": 36,
   "metadata": {},
   "outputs": [],
   "source": [
    "train_datagen = ImageDataGenerator( rescale = 1.0/255. )\n",
    "valid_datagen = ImageDataGenerator( rescale = 1.0/255. )"
   ]
  },
  {
   "cell_type": "markdown",
   "metadata": {},
   "source": [
    "### Initialising Image generator for feeding training and validation image samples to the model"
   ]
  },
  {
   "cell_type": "code",
   "execution_count": 37,
   "metadata": {},
   "outputs": [],
   "source": [
    "train_dir=\"C:\\\\Users\\\\User1\\\\OneDrive\\\\Desktop\\\\CovidProject\\\\train_final_DA\"\n",
    "validation_dir=\"C:\\\\Users\\\\User1\\\\OneDrive\\\\Desktop\\\\CovidProject\\\\validation\""
   ]
  },
  {
   "cell_type": "code",
   "execution_count": 38,
   "metadata": {},
   "outputs": [
    {
     "name": "stdout",
     "output_type": "stream",
     "text": [
      "Found 23586 images belonging to 2 classes.\n"
     ]
    }
   ],
   "source": [
    "train_generator = train_datagen.flow_from_directory(train_dir, batch_size = 20, class_mode = 'binary', target_size = (224, 224))"
   ]
  },
  {
   "cell_type": "code",
   "execution_count": 39,
   "metadata": {},
   "outputs": [
    {
     "name": "stdout",
     "output_type": "stream",
     "text": [
      "Found 400 images belonging to 2 classes.\n"
     ]
    }
   ],
   "source": [
    "validation_generator = valid_datagen.flow_from_directory(validation_dir,  batch_size = 20, class_mode = 'binary', target_size = (224, 224))"
   ]
  },
  {
   "cell_type": "markdown",
   "metadata": {},
   "source": [
    "### Adding layers in the end to classify images as positive and negative (Binary Classification) using sigmoid function"
   ]
  },
  {
   "cell_type": "code",
   "execution_count": 40,
   "metadata": {},
   "outputs": [],
   "source": [
    "\n",
    "# Flatten the output layer to 1 dimension\n",
    "x = layers.Flatten()(base_model.output)\n",
    "\n",
    "# Add a fully connected layer with 512 hidden units and ReLU activation\n",
    "x = layers.Dense(512, activation='relu')(x)\n",
    "\n",
    "# Add a dropout rate of 0.5\n",
    "x = layers.Dropout(0.5)(x)\n",
    "\n",
    "# Add a final sigmoid layer for classification\n",
    "x = layers.Dense(1, activation='sigmoid')(x)\n",
    "\n",
    "model_vgg_da = tf.keras.models.Model(base_model.input, x)\n",
    "\n",
    "model_vgg_da.compile(optimizer = tf.keras.optimizers.RMSprop(lr=0.0001), loss = 'binary_crossentropy',metrics = ['acc'])"
   ]
  },
  {
   "cell_type": "code",
   "execution_count": 41,
   "metadata": {},
   "outputs": [
    {
     "name": "stdout",
     "output_type": "stream",
     "text": [
      "Model: \"functional_1\"\n",
      "_________________________________________________________________\n",
      "Layer (type)                 Output Shape              Param #   \n",
      "=================================================================\n",
      "input_1 (InputLayer)         [(None, 224, 224, 3)]     0         \n",
      "_________________________________________________________________\n",
      "block1_conv1 (Conv2D)        (None, 224, 224, 64)      1792      \n",
      "_________________________________________________________________\n",
      "block1_conv2 (Conv2D)        (None, 224, 224, 64)      36928     \n",
      "_________________________________________________________________\n",
      "block1_pool (MaxPooling2D)   (None, 112, 112, 64)      0         \n",
      "_________________________________________________________________\n",
      "block2_conv1 (Conv2D)        (None, 112, 112, 128)     73856     \n",
      "_________________________________________________________________\n",
      "block2_conv2 (Conv2D)        (None, 112, 112, 128)     147584    \n",
      "_________________________________________________________________\n",
      "block2_pool (MaxPooling2D)   (None, 56, 56, 128)       0         \n",
      "_________________________________________________________________\n",
      "block3_conv1 (Conv2D)        (None, 56, 56, 256)       295168    \n",
      "_________________________________________________________________\n",
      "block3_conv2 (Conv2D)        (None, 56, 56, 256)       590080    \n",
      "_________________________________________________________________\n",
      "block3_conv3 (Conv2D)        (None, 56, 56, 256)       590080    \n",
      "_________________________________________________________________\n",
      "block3_pool (MaxPooling2D)   (None, 28, 28, 256)       0         \n",
      "_________________________________________________________________\n",
      "block4_conv1 (Conv2D)        (None, 28, 28, 512)       1180160   \n",
      "_________________________________________________________________\n",
      "block4_conv2 (Conv2D)        (None, 28, 28, 512)       2359808   \n",
      "_________________________________________________________________\n",
      "block4_conv3 (Conv2D)        (None, 28, 28, 512)       2359808   \n",
      "_________________________________________________________________\n",
      "block4_pool (MaxPooling2D)   (None, 14, 14, 512)       0         \n",
      "_________________________________________________________________\n",
      "block5_conv1 (Conv2D)        (None, 14, 14, 512)       2359808   \n",
      "_________________________________________________________________\n",
      "block5_conv2 (Conv2D)        (None, 14, 14, 512)       2359808   \n",
      "_________________________________________________________________\n",
      "block5_conv3 (Conv2D)        (None, 14, 14, 512)       2359808   \n",
      "_________________________________________________________________\n",
      "block5_pool (MaxPooling2D)   (None, 7, 7, 512)         0         \n",
      "_________________________________________________________________\n",
      "flatten_1 (Flatten)          (None, 25088)             0         \n",
      "_________________________________________________________________\n",
      "dense_2 (Dense)              (None, 512)               12845568  \n",
      "_________________________________________________________________\n",
      "dropout_5 (Dropout)          (None, 512)               0         \n",
      "_________________________________________________________________\n",
      "dense_3 (Dense)              (None, 1)                 513       \n",
      "=================================================================\n",
      "Total params: 27,560,769\n",
      "Trainable params: 12,846,081\n",
      "Non-trainable params: 14,714,688\n",
      "_________________________________________________________________\n"
     ]
    }
   ],
   "source": [
    "model_vgg_da.summary()"
   ]
  },
  {
   "cell_type": "markdown",
   "metadata": {},
   "source": [
    "### Training"
   ]
  },
  {
   "cell_type": "code",
   "execution_count": 42,
   "metadata": {},
   "outputs": [
    {
     "name": "stdout",
     "output_type": "stream",
     "text": [
      "Epoch 1/10\n",
      "117/117 [==============================] - 478s 4s/step - loss: 0.3686 - acc: 0.8500 - val_loss: 0.7056 - val_acc: 0.7300\n",
      "Epoch 2/10\n",
      "117/117 [==============================] - 481s 4s/step - loss: 0.1809 - acc: 0.9295 - val_loss: 0.3480 - val_acc: 0.8650\n",
      "Epoch 3/10\n",
      "117/117 [==============================] - 476s 4s/step - loss: 0.1277 - acc: 0.9474 - val_loss: 0.6122 - val_acc: 0.8025\n",
      "Epoch 4/10\n",
      "117/117 [==============================] - 488s 4s/step - loss: 0.1447 - acc: 0.9474 - val_loss: 0.7788 - val_acc: 0.7575\n",
      "Epoch 5/10\n",
      "117/117 [==============================] - 477s 4s/step - loss: 0.1194 - acc: 0.9594 - val_loss: 0.7666 - val_acc: 0.7875\n",
      "Epoch 6/10\n",
      "117/117 [==============================] - 477s 4s/step - loss: 0.1144 - acc: 0.9590 - val_loss: 0.6471 - val_acc: 0.8025\n",
      "Epoch 7/10\n",
      "117/117 [==============================] - 476s 4s/step - loss: 0.1126 - acc: 0.9583 - val_loss: 0.7285 - val_acc: 0.7875\n",
      "Epoch 8/10\n",
      "117/117 [==============================] - 476s 4s/step - loss: 0.1085 - acc: 0.9615 - val_loss: 0.7510 - val_acc: 0.7725\n",
      "Epoch 9/10\n",
      "117/117 [==============================] - 474s 4s/step - loss: 0.0900 - acc: 0.9726 - val_loss: 0.3878 - val_acc: 0.8875\n",
      "Epoch 10/10\n",
      "117/117 [==============================] - 474s 4s/step - loss: 0.0964 - acc: 0.9667 - val_loss: 0.4375 - val_acc: 0.8725\n"
     ]
    }
   ],
   "source": [
    "vgg_A_hist = model_vgg_da.fit(train_generator, validation_data=validation_generator, steps_per_epoch = 117, epochs = 10)"
   ]
  },
  {
   "cell_type": "markdown",
   "metadata": {},
   "source": [
    "### Plotting Training and Validation accuracy and loss"
   ]
  },
  {
   "cell_type": "code",
   "execution_count": 43,
   "metadata": {},
   "outputs": [],
   "source": [
    "train_acc= vgg_A_hist.history['acc']\n",
    "train_loss = vgg_A_hist.history['loss']\n",
    "valid_acc= vgg_A_hist.history['val_acc']\n",
    "valid_loss= vgg_A_hist.history['val_loss']"
   ]
  },
  {
   "cell_type": "code",
   "execution_count": 44,
   "metadata": {},
   "outputs": [
    {
     "data": {
      "text/plain": [
       "<matplotlib.legend.Legend at 0x1be32385cd0>"
      ]
     },
     "execution_count": 44,
     "metadata": {},
     "output_type": "execute_result"
    },
    {
     "data": {
      "image/png": "[encoded data removed]",
      "text/plain": [
       "<Figure size 1080x1080 with 2 Axes>"
      ]
     },
     "metadata": {
      "needs_background": "light"
     },
     "output_type": "display_data"
    }
   ],
   "source": [
    "plt.figure(figsize=(15, 15))\n",
    "plt.subplot(2, 2, 1)\n",
    "plt.plot(train_acc, label='Training Accuracy')\n",
    "plt.plot(valid_acc,label='Validation Accuracy')\n",
    "plt.title('Training and Validation Accuracy')\n",
    "plt.legend()\n",
    "plt.subplot(2,2,2)\n",
    "plt.plot(train_loss, label='Training Loss')\n",
    "plt.plot(valid_loss,label='Validation Loss')\n",
    "plt.title('Training and Validation Loss')\n",
    "plt.legend()"
   ]
  },
  {
   "cell_type": "markdown",
   "metadata": {},
   "source": [
    "#### Accuracy on the training set started from 85% and went up to 96.67%, on the test set we had a max. accuracy of 87.25%.  As per the theory we should have got an increase in the accuracy after data augmentation, but that wasn't the case. My prediction being that-We generated around 10K positive samples from 2158 samples so the model might have over fitted and hence a reduced accuracy"
   ]
  },
  {
   "cell_type": "code",
   "execution_count": 67,
   "metadata": {},
   "outputs": [],
   "source": [
    "model_vgg_da.save(\"model_vgg_da.h5\")"
   ]
  },
  {
   "cell_type": "markdown",
   "metadata": {},
   "source": [
    "## 3-Training a CNN from scratch without Data Augmentation"
   ]
  },
  {
   "cell_type": "markdown",
   "metadata": {},
   "source": [
    "### Iniatialising a sequential model"
   ]
  },
  {
   "cell_type": "code",
   "execution_count": 2,
   "metadata": {},
   "outputs": [],
   "source": [
    "model_cnn=Sequential()"
   ]
  },
  {
   "cell_type": "markdown",
   "metadata": {},
   "source": [
    "### Adding the required layers"
   ]
  },
  {
   "cell_type": "code",
   "execution_count": 3,
   "metadata": {},
   "outputs": [],
   "source": [
    "    model_cnn.add(Conv2D(64, (3, 3), padding='same', activation='relu', input_shape=(224,224,3)))\n",
    "    model_cnn.add(Conv2D(64, (3, 3), padding='same', activation='relu'))\n",
    "    model_cnn.add(MaxPooling2D(pool_size=(2, 2)))\n",
    "    model_cnn.add(Dropout(0.25))\n",
    "\n",
    "    model_cnn.add(Conv2D(128, (3, 3), padding='same', activation='relu'))\n",
    "    model_cnn.add(Conv2D(128, (3, 3), padding='same', activation='relu'))\n",
    "    model_cnn.add(MaxPooling2D(pool_size=(2, 2)))\n",
    "    model_cnn.add(Dropout(0.25))\n",
    "\n",
    "    model_cnn.add(Conv2D(256, (3, 3), padding='same', activation='relu'))\n",
    "    model_cnn.add(Conv2D(256, (3, 3), padding='same', activation='relu'))\n",
    "    model_cnn.add(MaxPooling2D(pool_size=(2, 2)))\n",
    "    model_cnn.add(Dropout(0.25))\n",
    "\n",
    "    model_cnn.add(Conv2D(512, (3, 3), padding='same', activation='relu'))\n",
    "    model_cnn.add(Conv2D(512, (3, 3), padding='same', activation='relu'))\n",
    "    model_cnn.add(MaxPooling2D(pool_size=(2, 2)))\n",
    "    model_cnn.add(Dropout(0.25))\n",
    "    \n",
    "    model_cnn.add(Flatten())\n",
    "    model_cnn.add(Dense(512, activation='relu'))\n",
    "    model_cnn.add(Dropout(0.5))\n",
    "    model_cnn.add(Dense(1, activation='sigmoid'))"
   ]
  },
  {
   "cell_type": "code",
   "execution_count": 4,
   "metadata": {},
   "outputs": [],
   "source": [
    "model_cnn.compile(optimizer = tf.keras.optimizers.RMSprop(lr=0.0001), loss = 'binary_crossentropy',metrics = ['acc'])"
   ]
  },
  {
   "cell_type": "code",
   "execution_count": 5,
   "metadata": {},
   "outputs": [
    {
     "name": "stdout",
     "output_type": "stream",
     "text": [
      "Model: \"sequential\"\n",
      "_________________________________________________________________\n",
      "Layer (type)                 Output Shape              Param #   \n",
      "=================================================================\n",
      "conv2d (Conv2D)              (None, 224, 224, 64)      1792      \n",
      "_________________________________________________________________\n",
      "conv2d_1 (Conv2D)            (None, 224, 224, 64)      36928     \n",
      "_________________________________________________________________\n",
      "max_pooling2d (MaxPooling2D) (None, 112, 112, 64)      0         \n",
      "_________________________________________________________________\n",
      "dropout (Dropout)            (None, 112, 112, 64)      0         \n",
      "_________________________________________________________________\n",
      "conv2d_2 (Conv2D)            (None, 112, 112, 128)     73856     \n",
      "_________________________________________________________________\n",
      "conv2d_3 (Conv2D)            (None, 112, 112, 128)     147584    \n",
      "_________________________________________________________________\n",
      "max_pooling2d_1 (MaxPooling2 (None, 56, 56, 128)       0         \n",
      "_________________________________________________________________\n",
      "dropout_1 (Dropout)          (None, 56, 56, 128)       0         \n",
      "_________________________________________________________________\n",
      "conv2d_4 (Conv2D)            (None, 56, 56, 256)       295168    \n",
      "_________________________________________________________________\n",
      "conv2d_5 (Conv2D)            (None, 56, 56, 256)       590080    \n",
      "_________________________________________________________________\n",
      "max_pooling2d_2 (MaxPooling2 (None, 28, 28, 256)       0         \n",
      "_________________________________________________________________\n",
      "dropout_2 (Dropout)          (None, 28, 28, 256)       0         \n",
      "_________________________________________________________________\n",
      "conv2d_6 (Conv2D)            (None, 28, 28, 512)       1180160   \n",
      "_________________________________________________________________\n",
      "conv2d_7 (Conv2D)            (None, 28, 28, 512)       2359808   \n",
      "_________________________________________________________________\n",
      "max_pooling2d_3 (MaxPooling2 (None, 14, 14, 512)       0         \n",
      "_________________________________________________________________\n",
      "dropout_3 (Dropout)          (None, 14, 14, 512)       0         \n",
      "_________________________________________________________________\n",
      "flatten (Flatten)            (None, 100352)            0         \n",
      "_________________________________________________________________\n",
      "dense (Dense)                (None, 512)               51380736  \n",
      "_________________________________________________________________\n",
      "dropout_4 (Dropout)          (None, 512)               0         \n",
      "_________________________________________________________________\n",
      "dense_1 (Dense)              (None, 1)                 513       \n",
      "=================================================================\n",
      "Total params: 56,066,625\n",
      "Trainable params: 56,066,625\n",
      "Non-trainable params: 0\n",
      "_________________________________________________________________\n"
     ]
    }
   ],
   "source": [
    "model_cnn.summary()"
   ]
  },
  {
   "cell_type": "markdown",
   "metadata": {},
   "source": [
    "### Re-scaling the RGB values between 0-1 for faster training and better accuracy"
   ]
  },
  {
   "cell_type": "code",
   "execution_count": 6,
   "metadata": {},
   "outputs": [],
   "source": [
    "train_datagen = ImageDataGenerator( rescale = 1.0/255. )\n",
    "valid_datagen = ImageDataGenerator( rescale = 1.0/255. )"
   ]
  },
  {
   "cell_type": "markdown",
   "metadata": {},
   "source": [
    "### Initialising Image generator for feeding training and validation image samples to the model"
   ]
  },
  {
   "cell_type": "code",
   "execution_count": 7,
   "metadata": {},
   "outputs": [],
   "source": [
    "train_dir=\"C:\\\\Users\\\\User1\\\\OneDrive\\\\Desktop\\\\CovidProject\\\\train_final\"\n",
    "validation_dir=\"C:\\\\Users\\\\User1\\\\OneDrive\\\\Desktop\\\\CovidProject\\\\validation\""
   ]
  },
  {
   "cell_type": "code",
   "execution_count": 8,
   "metadata": {},
   "outputs": [
    {
     "name": "stdout",
     "output_type": "stream",
     "text": [
      "Found 4316 images belonging to 2 classes.\n"
     ]
    }
   ],
   "source": [
    "train_generator = train_datagen.flow_from_directory(train_dir, batch_size = 50, class_mode = 'binary', target_size = (224, 224))"
   ]
  },
  {
   "cell_type": "code",
   "execution_count": 9,
   "metadata": {},
   "outputs": [
    {
     "name": "stdout",
     "output_type": "stream",
     "text": [
      "Found 400 images belonging to 2 classes.\n"
     ]
    }
   ],
   "source": [
    "validation_generator = valid_datagen.flow_from_directory(validation_dir,  batch_size = 20, class_mode = 'binary', target_size = (224, 224))"
   ]
  },
  {
   "cell_type": "markdown",
   "metadata": {},
   "source": [
    "### Training"
   ]
  },
  {
   "cell_type": "code",
   "execution_count": 10,
   "metadata": {},
   "outputs": [
    {
     "name": "stdout",
     "output_type": "stream",
     "text": [
      "Epoch 1/10\n",
      "86/86 [==============================] - 2008s 23s/step - loss: 0.6286 - acc: 0.6564 - val_loss: 0.5628 - val_acc: 0.7325\n",
      "Epoch 2/10\n",
      "86/86 [==============================] - 2023s 24s/step - loss: 0.4887 - acc: 0.7797 - val_loss: 0.4747 - val_acc: 0.8075\n",
      "Epoch 3/10\n",
      "86/86 [==============================] - 2004s 23s/step - loss: 0.4048 - acc: 0.8242 - val_loss: 0.4278 - val_acc: 0.8350\n",
      "Epoch 4/10\n",
      "86/86 [==============================] - 1993s 23s/step - loss: 0.3433 - acc: 0.8589 - val_loss: 0.3306 - val_acc: 0.8750\n",
      "Epoch 5/10\n",
      "86/86 [==============================] - 2017s 23s/step - loss: 0.3058 - acc: 0.8779 - val_loss: 0.3243 - val_acc: 0.8725\n",
      "Epoch 6/10\n",
      "86/86 [==============================] - 2025s 24s/step - loss: 0.2806 - acc: 0.8875 - val_loss: 0.2806 - val_acc: 0.8900\n",
      "Epoch 7/10\n",
      "86/86 [==============================] - 2044s 24s/step - loss: 0.2417 - acc: 0.9076 - val_loss: 0.2609 - val_acc: 0.9100\n",
      "Epoch 8/10\n",
      "86/86 [==============================] - 2000s 23s/step - loss: 0.2164 - acc: 0.9182 - val_loss: 0.2676 - val_acc: 0.8975\n",
      "Epoch 9/10\n",
      "86/86 [==============================] - 1991s 23s/step - loss: 0.2062 - acc: 0.9297 - val_loss: 0.2314 - val_acc: 0.9100\n",
      "Epoch 10/10\n",
      "86/86 [==============================] - 14607s 170s/step - loss: 0.1789 - acc: 0.9300 - val_loss: 0.2414 - val_acc: 0.9050\n"
     ]
    }
   ],
   "source": [
    "trialmodel = model_cnn.fit(train_generator, validation_data = validation_generator, steps_per_epoch=86, epochs = 10)"
   ]
  },
  {
   "cell_type": "markdown",
   "metadata": {},
   "source": [
    "### Plotting Training and Validation accuracy and loss"
   ]
  },
  {
   "cell_type": "code",
   "execution_count": 11,
   "metadata": {},
   "outputs": [],
   "source": [
    "train_acc=trialmodel.history['acc']\n",
    "train_loss = trialmodel.history['loss']\n",
    "valid_acc=trialmodel.history['val_acc']\n",
    "valid_loss=trialmodel.history['val_loss']"
   ]
  },
  {
   "cell_type": "code",
   "execution_count": 12,
   "metadata": {},
   "outputs": [
    {
     "data": {
      "text/plain": [
       "<matplotlib.legend.Legend at 0x1be2f190940>"
      ]
     },
     "execution_count": 12,
     "metadata": {},
     "output_type": "execute_result"
    },
    {
     "data": {
      "image/png": "[encoded data removed]",
      "text/plain": [
       "<Figure size 1080x1080 with 2 Axes>"
      ]
     },
     "metadata": {
      "needs_background": "light"
     },
     "output_type": "display_data"
    }
   ],
   "source": [
    "plt.figure(figsize=(15, 15))\n",
    "plt.subplot(2, 2, 1)\n",
    "plt.plot(train_acc, label='Training Accuracy')\n",
    "plt.plot(valid_acc,label='Validation Accuracy')\n",
    "plt.title('Training and Validation Accuracy')\n",
    "plt.legend()\n",
    "plt.subplot(2,2,2)\n",
    "plt.plot(train_loss, label='Training Loss')\n",
    "plt.plot(valid_loss,label='Validation Loss')\n",
    "plt.title('Training and Validation Loss')\n",
    "plt.legend()"
   ]
  },
  {
   "cell_type": "markdown",
   "metadata": {},
   "source": [
    "#### Accuracy on the training set started from 65.64% and went up to 93% and on the test set max. accuracy was 91%"
   ]
  },
  {
   "cell_type": "code",
   "execution_count": 66,
   "metadata": {},
   "outputs": [],
   "source": [
    "model_cnn.save(\"model_cnn.h5\")"
   ]
  },
  {
   "cell_type": "markdown",
   "metadata": {},
   "source": [
    "| Model       |Train Accuracy | Test Accuracy|\n",
    "| :---        |    :----:   |          ---: |\n",
    "| VGG-16 without data augmentation     | 95.67%       | 96.5%   |\n",
    "| VGG-16 with data augmentation   | 96.67%     | 87.25%      |\n",
    "| CNN from scratch                |    93%              |       91%         |\n",
    "\n",
    "## Best Accuracy was given by VGG-16 without using Data Augmentation"
   ]
  }
 ],
 "metadata": {
  "kernelspec": {
   "display_name": "Python 3",
   "language": "python",
   "name": "python3"
  },
  "language_info": {
   "codemirror_mode": {
    "name": "ipython",
    "version": 3
   },
   "file_extension": ".py",
   "mimetype": "text/x-python",
   "name": "python",
   "nbconvert_exporter": "python",
   "pygments_lexer": "ipython3",
   "version": "3.8.10"
  }
 },
 "nbformat": 4,
 "nbformat_minor": 4
}
